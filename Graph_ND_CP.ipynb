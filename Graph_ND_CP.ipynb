{
  "nbformat": 4,
  "nbformat_minor": 0,
  "metadata": {
    "colab": {
      "provenance": [],
      "authorship_tag": "ABX9TyP7/l1z3BYSxASxwZO3xFU6",
      "include_colab_link": true
    },
    "kernelspec": {
      "name": "python3",
      "display_name": "Python 3"
    },
    "language_info": {
      "name": "python"
    }
  },
  "cells": [
    {
      "cell_type": "markdown",
      "metadata": {
        "id": "view-in-github",
        "colab_type": "text"
      },
      "source": [
        "<a href=\"https://colab.research.google.com/github/AlejandroUnipoli/EDA/blob/Graphs/Graph_ND_CP.ipynb\" target=\"_parent\"><img src=\"https://colab.research.google.com/assets/colab-badge.svg\" alt=\"Open In Colab\"/></a>"
      ]
    },
    {
      "cell_type": "code",
      "execution_count": 1,
      "metadata": {
        "colab": {
          "base_uri": "https://localhost:8080/"
        },
        "id": "AhHQgUd-mF7R",
        "outputId": "63304c9a-2df2-4028-9945-c3d459f150cc"
      },
      "outputs": [
        {
          "output_type": "stream",
          "name": "stdout",
          "text": [
            "Vertex A:\n",
            "  -> B (Weight: 4)\n",
            "  -> C (Weight: 2)\n",
            "Vertex B:\n",
            "  -> A (Weight: 4)\n",
            "  -> C (Weight: 1)\n",
            "Vertex C:\n",
            "  -> A (Weight: 2)\n",
            "  -> B (Weight: 1)\n",
            "  -> D (Weight: 5)\n",
            "Vertex D:\n",
            "  -> C (Weight: 5)\n",
            "Adjacency Matrix:\n",
            "[0, 4, 2, 0]\n",
            "[4, 0, 1, 0]\n",
            "[2, 1, 0, 5]\n",
            "[0, 0, 5, 0]\n",
            "\n",
            "After removing vertex 'd':\n",
            "Vertex A:\n",
            "  -> B (Weight: 4)\n",
            "  -> C (Weight: 2)\n",
            "Vertex B:\n",
            "  -> A (Weight: 4)\n",
            "  -> C (Weight: 1)\n",
            "Vertex C:\n",
            "  -> A (Weight: 2)\n",
            "  -> B (Weight: 1)\n",
            "Adjacency Matrix:\n",
            "[0, 4, 2]\n",
            "[4, 0, 1]\n",
            "[2, 1, 0]\n"
          ]
        }
      ],
      "source": [
        "\n",
        "import graphviz\n",
        "\n",
        "class Graph:\n",
        "    def __init__(self):\n",
        "        self.graph = {}\n",
        "\n",
        "    def add_vertex(self, vertex):\n",
        "        if vertex not in self.graph:\n",
        "            self.graph[vertex] = {}\n",
        "\n",
        "    def add_edge(self, vertex1, vertex2, weight):\n",
        "        if vertex1 in self.graph and vertex2 in self.graph:\n",
        "            self.graph[vertex1][vertex2] = weight\n",
        "            self.graph[vertex2][vertex1] = weight\n",
        "\n",
        "    def remove_vertex(self, vertex):\n",
        "        if vertex in self.graph:\n",
        "            del self.graph[vertex]\n",
        "            for v in self.graph:\n",
        "                if vertex in self.graph[v]:\n",
        "                    del self.graph[v][vertex]\n",
        "\n",
        "\n",
        "    def print_adjacency_list(self):\n",
        "        for vertex in self.graph:\n",
        "            print(f\"Vertex {vertex}:\")\n",
        "            for neighbor, weight in self.graph[vertex].items():\n",
        "                print(f\"  -> {neighbor} (Weight: {weight})\")\n",
        "\n",
        "    def print_adjacency_matrix(self):\n",
        "        vertices = sorted(list(self.graph.keys()))\n",
        "        matrix = [[0] * len(vertices) for _ in range(len(vertices))]\n",
        "\n",
        "        for i, vertex1 in enumerate(vertices):\n",
        "            for j, vertex2 in enumerate(vertices):\n",
        "                if vertex2 in self.graph[vertex1]:\n",
        "                    matrix[i][j] = self.graph[vertex1][vertex2]\n",
        "\n",
        "        print(\"Adjacency Matrix:\")\n",
        "        for row in matrix:\n",
        "            print(row)\n",
        "\n",
        "\n",
        "    def generate_graphviz_image(self, filename=\"graph.png\"):\n",
        "        dot = graphviz.Graph(comment='Weighted Undirected Graph')\n",
        "\n",
        "        for vertex in self.graph:\n",
        "            dot.node(str(vertex))\n",
        "\n",
        "        for vertex1 in self.graph:\n",
        "            for vertex2, weight in self.graph[vertex1].items():\n",
        "                if vertex1 < vertex2:  # Avoid duplicate edges in undirected graph\n",
        "                    dot.edge(str(vertex1), str(vertex2), label=str(weight))\n",
        "\n",
        "        dot.render(filename, format='png', view=True)\n",
        "\n",
        "\n",
        "# Example Usage:\n",
        "graph = Graph()\n",
        "graph.add_vertex('A')\n",
        "graph.add_vertex('B')\n",
        "graph.add_vertex('C')\n",
        "graph.add_vertex('D')\n",
        "graph.add_edge('A', 'B', 4)\n",
        "graph.add_edge('A', 'C', 2)\n",
        "graph.add_edge('B', 'C', 1)\n",
        "graph.add_edge('C', 'D', 5)\n",
        "\n",
        "graph.print_adjacency_list()\n",
        "graph.print_adjacency_matrix()\n",
        "graph.generate_graphviz_image()\n",
        "\n",
        "graph.remove_vertex('D')\n",
        "\n",
        "print(\"\\nAfter removing vertex 'd':\")\n",
        "graph.print_adjacency_list()\n",
        "graph.print_adjacency_matrix()\n",
        "graph.generate_graphviz_image(\"graph_after_removal.png\")\n",
        "\n"
      ]
    }
  ]
}