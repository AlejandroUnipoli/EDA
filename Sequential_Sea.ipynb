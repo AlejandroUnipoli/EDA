{
  "nbformat": 4,
  "nbformat_minor": 0,
  "metadata": {
    "colab": {
      "provenance": [],
      "history_visible": true,
      "authorship_tag": "ABX9TyPOs+ZD1ff4+rnJgzmWPqup",
      "include_colab_link": true
    },
    "kernelspec": {
      "name": "python3",
      "display_name": "Python 3"
    },
    "language_info": {
      "name": "python"
    }
  },
  "cells": [
    {
      "cell_type": "markdown",
      "metadata": {
        "id": "view-in-github",
        "colab_type": "text"
      },
      "source": [
        "<a href=\"https://colab.research.google.com/github/AlejandroUnipoli/EDA/blob/Searches/Sequential_Sea.ipynb\" target=\"_parent\"><img src=\"https://colab.research.google.com/assets/colab-badge.svg\" alt=\"Open In Colab\"/></a>"
      ]
    },
    {
      "cell_type": "code",
      "execution_count": 7,
      "metadata": {
        "colab": {
          "base_uri": "https://localhost:8080/"
        },
        "id": "bze11i2NfGB4",
        "outputId": "e7626531-3b50-409a-9176-f34989e21400"
      },
      "outputs": [
        {
          "output_type": "stream",
          "name": "stdout",
          "text": [
            "Ingresa el numero a buscar: 1\n",
            "\n",
            "El elemento 1 se encuentra en el índice 0\n",
            " Lista:  [1, 4, 2, 5, 3]\n"
          ]
        }
      ],
      "source": [
        "# prompt: crea un codigo de python que utilice la busqueda secuencial\n",
        "\n",
        "def busqueda_secuencial(lista, elemento):\n",
        "  \"\"\"\n",
        "  Realiza una búsqueda secuencial en una lista.\n",
        "\n",
        "  Args:\n",
        "    lista: La lista en la que buscar.\n",
        "    elemento: El elemento a buscar.\n",
        "\n",
        "  Returns:\n",
        "    El índice del elemento si se encuentra en la lista, -1 en caso contrario.\n",
        "  \"\"\"\n",
        "  for i in range(len(lista)):\n",
        "    if lista[i] == elemento:\n",
        "      return i\n",
        "  return -1\n",
        "\n",
        "# Ejemplo de uso\n",
        "mi_lista = [1, 4, 2, 5, 3]\n",
        "elemento_a_buscar = int(input(\"Ingresa el numero a buscar: \"))\n",
        "\n",
        "indice = busqueda_secuencial(mi_lista, elemento_a_buscar)\n",
        "\n",
        "if indice != -1:\n",
        "  print(f\"\\nEl elemento {elemento_a_buscar} se encuentra en el índice {indice}\")\n",
        "  print(\"\\n Lista: \", mi_lista)\n",
        "else:\n",
        "  print(f\"\\nEl elemento {elemento_a_buscar} no se encuentra en la lista\")\n"
      ]
    }
  ]
}