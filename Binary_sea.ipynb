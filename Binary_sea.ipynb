{
  "nbformat": 4,
  "nbformat_minor": 0,
  "metadata": {
    "colab": {
      "provenance": [],
      "history_visible": true,
      "authorship_tag": "ABX9TyN4vKVaw7YjRcP3JgtxhOGY",
      "include_colab_link": true
    },
    "kernelspec": {
      "name": "python3",
      "display_name": "Python 3"
    },
    "language_info": {
      "name": "python"
    }
  },
  "cells": [
    {
      "cell_type": "markdown",
      "metadata": {
        "id": "view-in-github",
        "colab_type": "text"
      },
      "source": [
        "<a href=\"https://colab.research.google.com/github/AlejandroUnipoli/EDA/blob/Searches/Binary_sea.ipynb\" target=\"_parent\"><img src=\"https://colab.research.google.com/assets/colab-badge.svg\" alt=\"Open In Colab\"/></a>"
      ]
    },
    {
      "cell_type": "code",
      "execution_count": 3,
      "metadata": {
        "colab": {
          "base_uri": "https://localhost:8080/"
        },
        "id": "U4K1zvPKgrIu",
        "outputId": "4cb6a86c-a7ba-40fa-fa7c-81a6394ff95a"
      },
      "outputs": [
        {
          "output_type": "stream",
          "name": "stdout",
          "text": [
            "Ingresa el numero a buscar: 1\n",
            "\n",
            "El elemento 1 no se encuentra en la lista\n"
          ]
        }
      ],
      "source": [
        "def binary_search(arr, target):\n",
        "\n",
        "  low = 0\n",
        "  high = len(arr) - 1\n",
        "\n",
        "  while low <= high:\n",
        "    mid = (low + high) // 2  # Calculate the middle index\n",
        "\n",
        "    if arr[mid] == target:\n",
        "      return mid  # Target found at index mid\n",
        "    elif arr[mid] < target:\n",
        "      low = mid + 1  # Search in the right half\n",
        "    else:\n",
        "      high = mid - 1  # Search in the left half\n",
        "\n",
        "  return -1  # Target not found\n",
        "\n",
        "\n",
        "# Example usage:\n",
        "my_list = [2, 5, 7, 8, 11, 12]\n",
        "target_value = int(input(\"Ingresa el numero a buscar: \"))\n",
        "\n",
        "result_index = binary_search(my_list, target_value)\n",
        "\n",
        "if result_index != -1:\n",
        "  print(f\"\\nEl elemento {target_value} se encuentra en el índice {result_index}\")\n",
        "  print(\"\\n Lista: \", my_list)\n",
        "else:\n",
        "  print(f\"\\nEl elemento {target_value} no se encuentra en la lista\")\n"
      ]
    }
  ]
}