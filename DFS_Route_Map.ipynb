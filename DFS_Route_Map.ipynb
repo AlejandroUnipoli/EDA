{
  "nbformat": 4,
  "nbformat_minor": 0,
  "metadata": {
    "colab": {
      "provenance": [],
      "authorship_tag": "ABX9TyOfTe2H9ToqOEdhymcSVLSN",
      "include_colab_link": true
    },
    "kernelspec": {
      "name": "python3",
      "display_name": "Python 3"
    },
    "language_info": {
      "name": "python"
    }
  },
  "cells": [
    {
      "cell_type": "markdown",
      "metadata": {
        "id": "view-in-github",
        "colab_type": "text"
      },
      "source": [
        "<a href=\"https://colab.research.google.com/github/AlejandroUnipoli/EDA/blob/Graphs/DFS_Route_Map.ipynb\" target=\"_parent\"><img src=\"https://colab.research.google.com/assets/colab-badge.svg\" alt=\"Open In Colab\"/></a>"
      ]
    },
    {
      "cell_type": "code",
      "execution_count": 9,
      "metadata": {
        "colab": {
          "base_uri": "https://localhost:8080/"
        },
        "id": "9um-yMIW3lz7",
        "outputId": "651de9df-2700-40fc-8bcd-34cc420cea04"
      },
      "outputs": [
        {
          "output_type": "stream",
          "name": "stdout",
          "text": [
            "\n",
            "Introduce el nodo a comenzar: A\n",
            "\n",
            "Introduce el nodo a terminar: E\n",
            "Rutas encontradas desde A hasta E:\n",
            "['A', 'B', 'E']\n",
            "['A', 'B', 'D', 'E']\n"
          ]
        }
      ],
      "source": [
        "from pickle import STRING\n",
        "# prompt: Crea un codigo DFS donde permita encontrar la ruta de un punto a otro e introducir el nodo inicial y el nodo al que se tiene que llegar\n",
        "\n",
        "def dfs_paths(graph, start, goal):\n",
        "  \"\"\"\n",
        "  Encuentra todas las rutas posibles entre dos nodos utilizando DFS.\n",
        "\n",
        "  Args:\n",
        "    graph: Un diccionario que representa el grafo, donde las claves son los nodos\n",
        "           y los valores son listas de nodos adyacentes.\n",
        "    start: El nodo de inicio.\n",
        "    goal: El nodo objetivo.\n",
        "\n",
        "  Returns:\n",
        "    Una lista de listas, donde cada lista interna representa una ruta posible\n",
        "    desde el nodo de inicio al nodo objetivo.\n",
        "  \"\"\"\n",
        "  stack = [(start, [start])]\n",
        "  paths = []\n",
        "\n",
        "  while stack:\n",
        "    (vertex, path) = stack.pop()\n",
        "    for next_node in graph[vertex]:\n",
        "      if next_node == goal:\n",
        "        paths.append(path + [next_node])\n",
        "      elif next_node not in path:\n",
        "        stack.append((next_node, path + [next_node]))\n",
        "\n",
        "  return paths\n",
        "\n",
        "\n",
        "# Ejemplo de uso:\n",
        "graph = {\n",
        "    'A': ['B', 'C'],\n",
        "    'B': ['D', 'E'],\n",
        "    'C': ['F'],\n",
        "    'D': ['E'],\n",
        "    'E': ['F'],\n",
        "    'F': []\n",
        "}\n",
        "\n",
        "start = input(\"\\nIntroduce el nodo a comenzar: \")\n",
        "start_node = start\n",
        "\n",
        "goal = input(\"\\nIntroduce el nodo a terminar: \")\n",
        "goal_node = goal\n",
        "\n",
        "paths = dfs_paths(graph, start_node, goal_node)\n",
        "\n",
        "if paths:\n",
        "  print(f\"Rutas encontradas desde {start_node} hasta {goal_node}:\")\n",
        "  for path in paths:\n",
        "    print(path)\n",
        "else:\n",
        "  print(f\"No se encontró ninguna ruta desde {start_node} hasta {goal_node}.\")"
      ]
    }
  ]
}