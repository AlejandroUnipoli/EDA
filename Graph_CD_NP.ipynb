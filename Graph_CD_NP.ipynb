{
  "nbformat": 4,
  "nbformat_minor": 0,
  "metadata": {
    "colab": {
      "provenance": [],
      "authorship_tag": "ABX9TyOgkD/BmDMqP7YQ9VqQGXcd",
      "include_colab_link": true
    },
    "kernelspec": {
      "name": "python3",
      "display_name": "Python 3"
    },
    "language_info": {
      "name": "python"
    }
  },
  "cells": [
    {
      "cell_type": "markdown",
      "metadata": {
        "id": "view-in-github",
        "colab_type": "text"
      },
      "source": [
        "<a href=\"https://colab.research.google.com/github/AlejandroUnipoli/EDA/blob/Graphs/Graph_CD_NP.ipynb\" target=\"_parent\"><img src=\"https://colab.research.google.com/assets/colab-badge.svg\" alt=\"Open In Colab\"/></a>"
      ]
    },
    {
      "cell_type": "code",
      "execution_count": 1,
      "metadata": {
        "colab": {
          "base_uri": "https://localhost:8080/"
        },
        "id": "PzYlKw1hq1T8",
        "outputId": "3111068d-e5df-47e2-bf2a-5fd8ff9d4f66"
      },
      "outputs": [
        {
          "output_type": "stream",
          "name": "stdout",
          "text": [
            "Requirement already satisfied: graphviz in /usr/local/lib/python3.10/dist-packages (0.20.3)\n",
            "Matriz de Adyacencia:\n",
            "[[0, 1, 0], [0, 0, 1], [1, 0, 0]]\n",
            "Lista de Adyacencia:\n",
            "{'A': {'B'}, 'B': {'C'}, 'C': {'A'}}\n",
            "Matriz de Adyacencia después de eliminar un vértice:\n",
            "[[0, 0], [1, 0]]\n",
            "Lista de Adyacencia después de eliminar un vértice:\n",
            "{'A': set(), 'C': {'A'}}\n"
          ]
        }
      ],
      "source": [
        "\n",
        "!pip install graphviz\n",
        "\n",
        "import graphviz\n",
        "\n",
        "class Grafo:\n",
        "    def __init__(self):\n",
        "        self.vertices = set()\n",
        "        self.aristas = set()\n",
        "\n",
        "    def agregar_vertice(self, vertice):\n",
        "        self.vertices.add(vertice)\n",
        "\n",
        "    def agregar_arista(self, origen, destino):\n",
        "        self.aristas.add((origen, destino))\n",
        "\n",
        "    def eliminar_vertice(self, vertice):\n",
        "        if vertice in self.vertices:\n",
        "            self.vertices.remove(vertice)\n",
        "            self.aristas = set([(origen, destino) for origen, destino in self.aristas if origen != vertice and destino != vertice])\n",
        "\n",
        "    def imprimir_matriz_adyacencia(self):\n",
        "        matriz = [[0] * len(self.vertices) for _ in range(len(self.vertices))]\n",
        "        vertices_lista = list(self.vertices)\n",
        "        for origen, destino in self.aristas:\n",
        "            if origen in self.vertices and destino in self.vertices:\n",
        "                fila = vertices_lista.index(origen)\n",
        "                columna = vertices_lista.index(destino)\n",
        "                matriz[fila][columna] = 1\n",
        "        print(\"Matriz de Adyacencia:\")\n",
        "        for fila in matriz:\n",
        "            print(fila)\n",
        "\n",
        "    def imprimir_lista_adyacencia(self):\n",
        "        lista_adyacencia = {vertice: [] for vertice in self.vertices}\n",
        "        for origen, destino in self.aristas:\n",
        "            if origen in self.vertices and destino in self.vertices:\n",
        "                lista_adyacencia[origen].append(destino)\n",
        "        print(\"Lista de Adyacencia:\")\n",
        "        for vertice, vecinos in lista_adyacencia.items():\n",
        "            print(f\"{vertice}: {vecinos}\")\n",
        "\n",
        "    def generar_imagen(self, nombre_archivo):\n",
        "        dot = graphviz.Digraph(format='png')\n",
        "        for vertice in self.vertices:\n",
        "            dot.node(str(vertice))\n",
        "        for origen, destino in self.aristas:\n",
        "            dot.edge(str(origen), str(destino))\n",
        "        dot.render(nombre_archivo, view=False)\n",
        "\n",
        "\n",
        "# Ejemplo de uso\n",
        "grafo = Grafo()\n",
        "grafo.agregar_vertice(1)\n",
        "grafo.agregar_vertice(2)\n",
        "grafo.agregar_vertice(3)\n",
        "grafo.agregar_vertice(4)\n",
        "\n",
        "grafo.agregar_arista(1, 2)\n",
        "grafo.agregar_arista(2, 3)\n",
        "grafo.agregar_arista(3, 4)\n",
        "grafo.agregar_arista(3, 2)\n",
        "\n",
        "grafo.imprimir_matriz_adyacencia()\n",
        "grafo.imprimir_lista_adyacencia()\n",
        "grafo.generar_imagen(\"grafo_dirigido\")\n",
        "\n",
        "# Eliminar un vértice (ejemplo)\n",
        "grafo.eliminar_vertice(4)\n",
        "\n",
        "print(\"\\nDespués de eliminar el vértice 2:\")\n",
        "grafo.imprimir_matriz_adyacencia()\n",
        "grafo.imprimir_lista_adyacencia()\n",
        "grafo.generar_imagen(\"grafo_dirigido_modificado\")\n",
        "\n",
        "\n"
      ]
    }
  ]
}