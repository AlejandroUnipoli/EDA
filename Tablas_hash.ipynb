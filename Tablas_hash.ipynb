{
  "nbformat": 4,
  "nbformat_minor": 0,
  "metadata": {
    "colab": {
      "provenance": [],
      "authorship_tag": "ABX9TyMLyouI7mFipmL55huMWVjw",
      "include_colab_link": true
    },
    "kernelspec": {
      "name": "python3",
      "display_name": "Python 3"
    },
    "language_info": {
      "name": "python"
    }
  },
  "cells": [
    {
      "cell_type": "markdown",
      "metadata": {
        "id": "view-in-github",
        "colab_type": "text"
      },
      "source": [
        "<a href=\"https://colab.research.google.com/github/AlejandroUnipoli/EDA/blob/main/Tablas_hash.ipynb\" target=\"_parent\"><img src=\"https://colab.research.google.com/assets/colab-badge.svg\" alt=\"Open In Colab\"/></a>"
      ]
    },
    {
      "cell_type": "code",
      "execution_count": 8,
      "metadata": {
        "colab": {
          "base_uri": "https://localhost:8080/"
        },
        "id": "wrv8IwyPxZXZ",
        "outputId": "f9bf1fd3-2f69-44ca-a614-8bdd3e3104e8"
      },
      "outputs": [
        {
          "output_type": "stream",
          "name": "stdout",
          "text": [
            "\n",
            "Cuantas frutas deseas agregar?: 3\n",
            "\n",
            "Inserta el valor: pero\n",
            "Inserta la cantidad: 765\n",
            "\n",
            "Inserta el valor: pera\n",
            "Inserta la cantidad: 654\n",
            "\n",
            "Inserta el valor: sandia\n",
            "Inserta la cantidad: 98\n",
            "\n",
            "Tabla Hash\n",
            " - Index 0: []\n",
            " - Index 1: []\n",
            " - Index 2: []\n",
            " - Index 3: []\n",
            " - Index 4: [('pero', 765), ('pera', 654)]\n",
            " - Index 5: []\n",
            " - Index 6: [('sandia', 98)]\n",
            " - Index 7: []\n",
            " - Index 8: []\n",
            " - Index 9: []\n"
          ]
        }
      ],
      "source": [
        "# prompt: tablas hash que inserte una palabra y un valor y guarde los valores dependiendo de la longitud de la palabra, usando encadenamiento si se repiten indices\n",
        "\n",
        "class HashTable:\n",
        "    def __init__(self, size):\n",
        "        self.size = size\n",
        "        self.table = [[] for _ in range(size)]  # Use lists for chaining\n",
        "\n",
        "    def _hash_function(self, key):\n",
        "        return len(key) % self.size  # Hash based on word length\n",
        "\n",
        "    def insert(self, key, value):\n",
        "        index = self._hash_function(key)\n",
        "        for i, (k, v) in enumerate(self.table[index]):  # Check if key already exists\n",
        "            if k == key:\n",
        "                self.table[index][i] = (key, value)  # Update value if key exists\n",
        "                return\n",
        "        self.table[index].append((key, value))  # Append if key doesn't exist\n",
        "\n",
        "    def get(self, key):\n",
        "      index = self._hash_function(key)\n",
        "      for k, v in self.table[index]:\n",
        "        if k == key:\n",
        "          return v\n",
        "      return None  # Return None if key is not found\n",
        "\n",
        "    def print_table(self):\n",
        "        for i, bucket in enumerate(self.table):\n",
        "            print(f\" - Index {i}: {bucket}\")\n",
        "\n",
        "\n",
        "# Example usage:\n",
        "hash_table = HashTable(10)  # Initialize hash table with size 10\n",
        "\n",
        "# Add Numbers\n",
        "q = int(input(\"\\nCuantas frutas deseas agregar?: \"))\n",
        "\n",
        "for i in range(q):\n",
        "  fruit = input(\"\\nInserta el valor: \")\n",
        "  numb = int(input(\"Inserta la cantidad: \"))\n",
        "  hash_table.insert(fruit, numb)\n",
        "\n",
        "print(\"\\nTabla Hash\")\n",
        "hash_table.print_table()"
      ]
    }
  ]
}