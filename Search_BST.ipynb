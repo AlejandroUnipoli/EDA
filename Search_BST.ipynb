{
  "nbformat": 4,
  "nbformat_minor": 0,
  "metadata": {
    "colab": {
      "provenance": [],
      "authorship_tag": "ABX9TyNUJ4Pxmfa1mLJhufqJfIAl",
      "include_colab_link": true
    },
    "kernelspec": {
      "name": "python3",
      "display_name": "Python 3"
    },
    "language_info": {
      "name": "python"
    }
  },
  "cells": [
    {
      "cell_type": "markdown",
      "metadata": {
        "id": "view-in-github",
        "colab_type": "text"
      },
      "source": [
        "<a href=\"https://colab.research.google.com/github/AlejandroUnipoli/EDA/blob/Searches/Search_BST.ipynb\" target=\"_parent\"><img src=\"https://colab.research.google.com/assets/colab-badge.svg\" alt=\"Open In Colab\"/></a>"
      ]
    },
    {
      "cell_type": "code",
      "execution_count": 6,
      "metadata": {
        "id": "VdlJ2k3EE3GN",
        "colab": {
          "base_uri": "https://localhost:8080/",
          "height": 128
        },
        "outputId": "eaea4c7b-d00b-43ec-b66d-2a87b584b1e7"
      },
      "outputs": [
        {
          "output_type": "stream",
          "name": "stdout",
          "text": [
            "\n",
            "Busca un valor: 100\n",
            "\n",
            "El valor 100 no fue encontrado en el árbol.\n",
            "\n"
          ]
        },
        {
          "output_type": "execute_result",
          "data": {
            "text/plain": [
              "'avl_tree.png'"
            ],
            "application/vnd.google.colaboratory.intrinsic+json": {
              "type": "string"
            }
          },
          "metadata": {},
          "execution_count": 6
        }
      ],
      "source": [
        "from graphviz import Digraph\n",
        "\n",
        "class Node:\n",
        "    def __init__(self, key):\n",
        "        self.key = key\n",
        "        self.left = None\n",
        "        self.right = None\n",
        "        self.height = 1\n",
        "\n",
        "class AVLTree:\n",
        "    def insert(self, root, key):\n",
        "        # Paso 1: Inserción normal de un árbol binario de búsqueda\n",
        "        if not root:\n",
        "            return Node(key)\n",
        "        elif key < root.key:\n",
        "            root.left = self.insert(root.left, key)\n",
        "        else:\n",
        "            root.right = self.insert(root.right, key)\n",
        "\n",
        "        # Paso 2: Actualizar la altura del nodo ancestro\n",
        "        root.height = 1 + max(self.get_height(root.left), self.get_height(root.right))\n",
        "\n",
        "        # Paso 3: Obtener el factor de balanceo y balancear el árbol si es necesario\n",
        "        balance = self.get_balance(root)\n",
        "\n",
        "        # Rotación hacia la derecha\n",
        "        if balance > 1 and key < root.left.key:\n",
        "            return self.right_rotate(root)\n",
        "\n",
        "        # Rotación hacia la izquierda\n",
        "        if balance < -1 and key > root.right.key:\n",
        "            return self.left_rotate(root)\n",
        "\n",
        "        # Rotación doble izquierda-derecha\n",
        "        if balance > 1 and key > root.left.key:\n",
        "            root.left = self.left_rotate(root.left)\n",
        "            return self.right_rotate(root)\n",
        "\n",
        "        # Rotación doble derecha-izquierda\n",
        "        if balance < -1 and key < root.right.key:\n",
        "            root.right = self.right_rotate(root.right)\n",
        "            return self.left_rotate(root)\n",
        "\n",
        "        return root\n",
        "\n",
        "    def left_rotate(self, z):\n",
        "        y = z.right\n",
        "        T2 = y.left\n",
        "\n",
        "        y.left = z\n",
        "        z.right = T2\n",
        "\n",
        "        z.height = 1 + max(self.get_height(z.left), self.get_height(z.right))\n",
        "        y.height = 1 + max(self.get_height(y.left), self.get_height(y.right))\n",
        "\n",
        "        return y\n",
        "\n",
        "    def right_rotate(self, z):\n",
        "        y = z.left\n",
        "        T3 = y.right\n",
        "\n",
        "        y.right = z\n",
        "        z.left = T3\n",
        "\n",
        "        z.height = 1 + max(self.get_height(z.left), self.get_height(z.right))\n",
        "        y.height = 1 + max(self.get_height(y.left), self.get_height(y.right))\n",
        "\n",
        "        return y\n",
        "\n",
        "    def get_height(self, root):\n",
        "        if not root:\n",
        "            return 0\n",
        "        return root.height\n",
        "\n",
        "    def get_balance(self, root):\n",
        "        if not root:\n",
        "            return 0\n",
        "        return self.get_height(root.left) - self.get_height(root.right)\n",
        "\n",
        "    def search(self, root, key):\n",
        "        # Búsqueda binaria en el árbol AVL\n",
        "        if root is None or root.key == key:\n",
        "            return root\n",
        "        elif key < root.key:\n",
        "            return self.search(root.left, key)\n",
        "        return self.search(root.right, key)\n",
        "\n",
        "    def visualize(self, root):\n",
        "        # Visualización del árbol utilizando Graphviz\n",
        "        dot = Digraph()\n",
        "\n",
        "        def add_nodes_edges(root):\n",
        "            if root is not None:\n",
        "                dot.node(str(root.key), str(root.key))\n",
        "                if root.left:\n",
        "                    dot.edge(str(root.key), str(root.left.key))\n",
        "                    add_nodes_edges(root.left)\n",
        "                if root.right:\n",
        "                    dot.edge(str(root.key), str(root.right.key))\n",
        "                    add_nodes_edges(root.right)\n",
        "\n",
        "        add_nodes_edges(root)\n",
        "        return dot\n",
        "\n",
        "# Ejemplo de uso\n",
        "avl_tree = AVLTree()\n",
        "root = None\n",
        "\n",
        "# Insertar valores\n",
        "values = [10, 30, 70, 20, 60, 40, 50, 5]\n",
        "for value in values:\n",
        "    root = avl_tree.insert(root, value)\n",
        "\n",
        "# Buscar un valor\n",
        "key_to_search =  int(input(\"\\nBusca un valor: \"))\n",
        "result = avl_tree.search(root, key_to_search)\n",
        "if result:\n",
        "    print(f\"\\nEl valor {key_to_search} fue encontrado en el árbol.\\n\")\n",
        "else:\n",
        "    print(f\"\\nEl valor {key_to_search} no fue encontrado en el árbol.\\n\")\n",
        "\n",
        "# Dibujar el árbol\n",
        "dot = avl_tree.visualize(root)\n",
        "dot.render(\"avl_tree\", format=\"png\", cleanup=False)\n"
      ]
    }
  ]
}