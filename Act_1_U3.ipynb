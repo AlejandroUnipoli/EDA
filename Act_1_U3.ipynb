{
  "nbformat": 4,
  "nbformat_minor": 0,
  "metadata": {
    "colab": {
      "provenance": [],
      "authorship_tag": "ABX9TyOW0ZEF9F28XDBw4Z4LXtKX",
      "include_colab_link": true
    },
    "kernelspec": {
      "name": "python3",
      "display_name": "Python 3"
    },
    "language_info": {
      "name": "python"
    }
  },
  "cells": [
    {
      "cell_type": "markdown",
      "metadata": {
        "id": "view-in-github",
        "colab_type": "text"
      },
      "source": [
        "<a href=\"https://colab.research.google.com/github/AlejandroUnipoli/EDA/blob/Searches/Act_1_U3.ipynb\" target=\"_parent\"><img src=\"https://colab.research.google.com/assets/colab-badge.svg\" alt=\"Open In Colab\"/></a>"
      ]
    },
    {
      "cell_type": "code",
      "execution_count": 53,
      "metadata": {
        "colab": {
          "base_uri": "https://localhost:8080/",
          "height": 467
        },
        "id": "-5l1XMggzu3B",
        "outputId": "aec7fb01-6211-4a35-deb7-f77c6e8f6b89"
      },
      "outputs": [
        {
          "output_type": "stream",
          "name": "stdout",
          "text": [
            "\n",
            "\n",
            " ****** Restaurantes en Durango ****** \n",
            "\n",
            " 1- Busqueda por nombre\n",
            " 2- Busqueda por calificacion\n",
            " 3- Salir\n"
          ]
        },
        {
          "output_type": "error",
          "ename": "KeyboardInterrupt",
          "evalue": "Interrupted by user",
          "traceback": [
            "\u001b[0;31m---------------------------------------------------------------------------\u001b[0m",
            "\u001b[0;31mKeyboardInterrupt\u001b[0m                         Traceback (most recent call last)",
            "\u001b[0;32m<ipython-input-53-084df4d8b558>\u001b[0m in \u001b[0;36m<cell line: 88>\u001b[0;34m()\u001b[0m\n\u001b[1;32m     87\u001b[0m \u001b[0;34m\u001b[0m\u001b[0m\n\u001b[1;32m     88\u001b[0m \u001b[0;32mif\u001b[0m \u001b[0m__name__\u001b[0m \u001b[0;34m==\u001b[0m \u001b[0;34m\"__main__\"\u001b[0m\u001b[0;34m:\u001b[0m\u001b[0;34m\u001b[0m\u001b[0;34m\u001b[0m\u001b[0m\n\u001b[0;32m---> 89\u001b[0;31m   \u001b[0mmain\u001b[0m\u001b[0;34m(\u001b[0m\u001b[0;34m)\u001b[0m\u001b[0;34m\u001b[0m\u001b[0;34m\u001b[0m\u001b[0m\n\u001b[0m",
            "\u001b[0;32m<ipython-input-53-084df4d8b558>\u001b[0m in \u001b[0;36mmain\u001b[0;34m()\u001b[0m\n\u001b[1;32m     51\u001b[0m   \u001b[0;32mwhile\u001b[0m \u001b[0;32mTrue\u001b[0m\u001b[0;34m:\u001b[0m\u001b[0;34m\u001b[0m\u001b[0;34m\u001b[0m\u001b[0m\n\u001b[1;32m     52\u001b[0m     \u001b[0mshow_menu\u001b[0m\u001b[0;34m(\u001b[0m\u001b[0;34m)\u001b[0m\u001b[0;34m\u001b[0m\u001b[0;34m\u001b[0m\u001b[0m\n\u001b[0;32m---> 53\u001b[0;31m     \u001b[0mchoice\u001b[0m \u001b[0;34m=\u001b[0m\u001b[0minput\u001b[0m\u001b[0;34m(\u001b[0m\u001b[0;34m\"\\nElige una opcion: \"\u001b[0m\u001b[0;34m)\u001b[0m\u001b[0;34m\u001b[0m\u001b[0;34m\u001b[0m\u001b[0m\n\u001b[0m\u001b[1;32m     54\u001b[0m \u001b[0;34m\u001b[0m\u001b[0m\n\u001b[1;32m     55\u001b[0m     \u001b[0;32mif\u001b[0m \u001b[0mchoice\u001b[0m \u001b[0;34m==\u001b[0m \u001b[0;34m'1'\u001b[0m\u001b[0;34m:\u001b[0m\u001b[0;34m\u001b[0m\u001b[0;34m\u001b[0m\u001b[0m\n",
            "\u001b[0;32m/usr/local/lib/python3.10/dist-packages/ipykernel/kernelbase.py\u001b[0m in \u001b[0;36mraw_input\u001b[0;34m(self, prompt)\u001b[0m\n\u001b[1;32m    849\u001b[0m                 \u001b[0;34m\"raw_input was called, but this frontend does not support input requests.\"\u001b[0m\u001b[0;34m\u001b[0m\u001b[0;34m\u001b[0m\u001b[0m\n\u001b[1;32m    850\u001b[0m             )\n\u001b[0;32m--> 851\u001b[0;31m         return self._input_request(str(prompt),\n\u001b[0m\u001b[1;32m    852\u001b[0m             \u001b[0mself\u001b[0m\u001b[0;34m.\u001b[0m\u001b[0m_parent_ident\u001b[0m\u001b[0;34m,\u001b[0m\u001b[0;34m\u001b[0m\u001b[0;34m\u001b[0m\u001b[0m\n\u001b[1;32m    853\u001b[0m             \u001b[0mself\u001b[0m\u001b[0;34m.\u001b[0m\u001b[0m_parent_header\u001b[0m\u001b[0;34m,\u001b[0m\u001b[0;34m\u001b[0m\u001b[0;34m\u001b[0m\u001b[0m\n",
            "\u001b[0;32m/usr/local/lib/python3.10/dist-packages/ipykernel/kernelbase.py\u001b[0m in \u001b[0;36m_input_request\u001b[0;34m(self, prompt, ident, parent, password)\u001b[0m\n\u001b[1;32m    893\u001b[0m             \u001b[0;32mexcept\u001b[0m \u001b[0mKeyboardInterrupt\u001b[0m\u001b[0;34m:\u001b[0m\u001b[0;34m\u001b[0m\u001b[0;34m\u001b[0m\u001b[0m\n\u001b[1;32m    894\u001b[0m                 \u001b[0;31m# re-raise KeyboardInterrupt, to truncate traceback\u001b[0m\u001b[0;34m\u001b[0m\u001b[0;34m\u001b[0m\u001b[0m\n\u001b[0;32m--> 895\u001b[0;31m                 \u001b[0;32mraise\u001b[0m \u001b[0mKeyboardInterrupt\u001b[0m\u001b[0;34m(\u001b[0m\u001b[0;34m\"Interrupted by user\"\u001b[0m\u001b[0;34m)\u001b[0m \u001b[0;32mfrom\u001b[0m \u001b[0;32mNone\u001b[0m\u001b[0;34m\u001b[0m\u001b[0;34m\u001b[0m\u001b[0m\n\u001b[0m\u001b[1;32m    896\u001b[0m             \u001b[0;32mexcept\u001b[0m \u001b[0mException\u001b[0m \u001b[0;32mas\u001b[0m \u001b[0me\u001b[0m\u001b[0;34m:\u001b[0m\u001b[0;34m\u001b[0m\u001b[0;34m\u001b[0m\u001b[0m\n\u001b[1;32m    897\u001b[0m                 \u001b[0mself\u001b[0m\u001b[0;34m.\u001b[0m\u001b[0mlog\u001b[0m\u001b[0;34m.\u001b[0m\u001b[0mwarning\u001b[0m\u001b[0;34m(\u001b[0m\u001b[0;34m\"Invalid Message:\"\u001b[0m\u001b[0;34m,\u001b[0m \u001b[0mexc_info\u001b[0m\u001b[0;34m=\u001b[0m\u001b[0;32mTrue\u001b[0m\u001b[0;34m)\u001b[0m\u001b[0;34m\u001b[0m\u001b[0;34m\u001b[0m\u001b[0m\n",
            "\u001b[0;31mKeyboardInterrupt\u001b[0m: Interrupted by user"
          ]
        }
      ],
      "source": [
        "def busqueda_secuencial(lista, elemento):\n",
        "\n",
        "  for i in range(len(lista)):\n",
        "    if lista[i] == elemento:\n",
        "      return i\n",
        "  return -1\n",
        "\n",
        "def busqueda_binaria(vector, palabra):\n",
        "\n",
        "  indices = []\n",
        "  izquierda = 0\n",
        "  derecha = len(vector) - 1\n",
        "\n",
        "  while izquierda <= derecha:\n",
        "    medio = (izquierda + derecha) // 2\n",
        "    if vector[medio] == palabra:\n",
        "      # Se encontró la palabra, ahora buscamos ocurrencias adyacentes\n",
        "      indices.append(medio)\n",
        "      i = medio - 1\n",
        "      while i >= 0 and vector[i] == palabra:\n",
        "        indices.append(i)\n",
        "        i -= 1\n",
        "      i = medio + 1\n",
        "      while i < len(vector) and vector[i] == palabra:\n",
        "        indices.append(i)\n",
        "        i += 1\n",
        "      indices.sort() #ordenar los indices\n",
        "      return indices\n",
        "    elif vector[medio] < palabra:\n",
        "      izquierda = medio + 1\n",
        "    else:\n",
        "      derecha = medio - 1\n",
        "\n",
        "  return indices  # Devuelve una lista vacía si no se encuentra la palabra\n",
        "\n",
        "#\n",
        "nombres = [\"Casa Jalisco\", \"La Fogata\", \"Fonda de la Abuela Chuyita\", \"Sushiitto Durango\", \"Las Chullpas\", \"Mercado El Pueblito\", \"La Victoria\", \"Meson de los Laureanos\", \"El Caracol Marino\", \"La India Bonita\", \"El Agave Azul\", \"Cielo Azul Restaurante\", \"El Viajero\", \"La Sierrita\", \"El Zocabon\", \"Aroma Cafe Bistro\", \"Fonda de la Tia Chona\", \"El Cine Restaurante\", \"La Parrilla Duranguense\", \"Los Adobes\"]\n",
        "especialidades = [\"Cocina mexicana y regional\", \"Parrilladas y cortes de carne\", \"Cocina casera mexicana\", \"Sushi y comida japonesa\", \"Cocina mexicana y mariscos\", \"Cocina tradicional y antojitos\", \"Cocina duranguense\", \"Cortes y cocina regional\", \"Mariscos\", \"Cocina mexicana tradicional\", \"Cocina mexicana contemporanea\", \"Cocina mexicana e internacional\", \"Pizzas y pastas\", \"Barbacoa y comida mexicana\", \"Carnes y antojitos mexicanos\", \"Cocina internacional y cafe\", \"Cocina mexicana tradicional\", \"Cocina internacional\", \"Carnes asadas y especialidades duranguenses\", \"Cocina regional y carnes asadas\"]\n",
        "rankings = \"4.2\", \"4.3\", \"4.3\", \"4.3\", \"4.3\", \"4.4\", \"4.4\", \"4.4\", \"4.4\", \"4.5\", \"4.5\", \"4.5\", \"4.5\", \"4.5\", \"4.6\", \"4.6\", \"4.5\", \"4.6\", \"4.7\", \"4.7\"\n",
        "direcciones = [\"Ave. Cuauhtemoc 1301, Zona Centro\", \"Calle Negrete 502, Zona Centro\", \"Avenida Victoria 322, Zona Centro\", \"Calle Constitucion 315, Zona Centro\", \"Blvd. Felipe Pescador 313, Zona Centro\", \"Plaza Fundadores 210, Zona Centro\", \"Calle Victoria 508, Zona Centro\", \"Calle 5 de Febrero 610, Zona Centro\", \"Av. 20 de Noviembre 408, Zona Centro\", \"Calle Hidalgo 104, Centro\", \"Blvrd Felipe Pescador 2101, Zona Centro\", \"Av. Lazaro Cardenas 105, Centro\", \"Calle Bruno Martinez 411, Zona Centro\", \"Blvd. Francisco Villa 203, Zona Centro\", \"Calle Constitucion 210, Zona Centro\", \"Calle Pino Suarez 315, Zona Centro\", \"Calle Constitucion 215, Centro\", \"Av. 20 de Noviembre 312, Zona Centro\", \"Blvd. Francisco Villa 113, Zona Centro\", \"Blvrd Dolores del Rio 303, Centro\"]\n",
        "\n",
        "#\n",
        "def show_menu():\n",
        "  print(\"\\n\\n ****** Restaurantes en Durango ****** \")\n",
        "\n",
        "  print(\"\\n 1- Busqueda por nombre\")\n",
        "  print(\" 2- Busqueda por calificacion\")\n",
        "  print(\" 3- Salir\")\n",
        "\n",
        "#\n",
        "def main():\n",
        "  while True:\n",
        "    show_menu()\n",
        "    choice =input(\"\\nElige una opcion: \")\n",
        "    #\n",
        "    if choice == '1':\n",
        "      elemento_a_buscar = input(\"\\nIngresa el nombre del restaurante a buscar: \")\n",
        "\n",
        "      indice = busqueda_secuencial(nombres, elemento_a_buscar)\n",
        "\n",
        "      if indice != -1:\n",
        "        print(f\"\\nEl restaurante '{elemento_a_buscar}' se encuentra en el índice {indice}\")\n",
        "        print(f\"\\n- Especialidad: {especialidades[indice]}\")\n",
        "        print(f\"- Ranking: {ranking[indice]}\")\n",
        "        print(f\"- Direccion: {direcciones[indice]}\")\n",
        "      else:\n",
        "        print(f\"\\nEl restaurante '{elemento_a_buscar}' no se encuentra en la lista\")\n",
        "    #\n",
        "    elif choice == '2':\n",
        "      palabra_a_buscar =  input(\"\\nIngresa el ranking a buscar: \")\n",
        "\n",
        "      indices_encontrados = busqueda_binaria(rankings, palabra_a_buscar)\n",
        "\n",
        "      if indices_encontrados:\n",
        "        print(f\"\\nEl ranking {palabra_a_buscar} se encuentra en los índices: {indices_encontrados}\")\n",
        "        for indice in indices_encontrados:\n",
        "          print(f\"\\n- Restaurante: {nombres[indice]}\")\n",
        "          print(f\"- Especialidad: {especialidades[indice]}\")\n",
        "          print(f\"- Direccion: {direcciones[indice]}\")\n",
        "      else:\n",
        "        print(f\"\\nEl ranking {palabra_a_buscar} no pertenece a ningun restaurante.\")\n",
        "    #\n",
        "    elif choice == '3':\n",
        "      print(\"\\n ********** Saliendo del programa **********\")\n",
        "      break\n",
        "    else:\n",
        "      print(\"\\n ********** OPCION INCORRECTA **********\")\n",
        "\n",
        "if __name__ == \"__main__\":\n",
        "  main()"
      ]
    }
  ]
}