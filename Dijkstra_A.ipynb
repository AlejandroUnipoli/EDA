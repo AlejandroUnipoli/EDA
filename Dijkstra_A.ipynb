{
  "nbformat": 4,
  "nbformat_minor": 0,
  "metadata": {
    "colab": {
      "provenance": [],
      "history_visible": true,
      "authorship_tag": "ABX9TyMAD54a1qn2wPOFCE0NB6Qd",
      "include_colab_link": true
    },
    "kernelspec": {
      "name": "python3",
      "display_name": "Python 3"
    },
    "language_info": {
      "name": "python"
    }
  },
  "cells": [
    {
      "cell_type": "markdown",
      "metadata": {
        "id": "view-in-github",
        "colab_type": "text"
      },
      "source": [
        "<a href=\"https://colab.research.google.com/github/AlejandroUnipoli/EDA/blob/main/Dijkstra_A.ipynb\" target=\"_parent\"><img src=\"https://colab.research.google.com/assets/colab-badge.svg\" alt=\"Open In Colab\"/></a>"
      ]
    },
    {
      "cell_type": "code",
      "execution_count": 8,
      "metadata": {
        "colab": {
          "base_uri": "https://localhost:8080/"
        },
        "id": "6DZzRZK38MgS",
        "outputId": "4d6f056b-f3d5-42ce-927b-d16f598a6810"
      },
      "outputs": [
        {
          "output_type": "stream",
          "name": "stdout",
          "text": [
            "Dijkstra's Algoritmo comenzando desde el nodo D:\n",
            "\n",
            "Distancia más corta desde A a A: 0\n",
            "Distancia más corta desde A a B: inf\n",
            "Distancia más corta desde A a C: 3\n",
            "Distancia más corta desde A a D: inf\n",
            "Distancia más corta desde A a E: 4\n",
            "Distancia más corta desde A a F: 8\n",
            "Distancia más corta desde A a G: 9\n"
          ]
        }
      ],
      "source": [
        "class Graph:\n",
        "    def __init__(self, size):\n",
        "        self.adj_matrix = [[0] * size for _ in range(size)]\n",
        "        self.size = size\n",
        "        self.vertex_data = [''] * size\n",
        "\n",
        "    def add_edge(self, u, v, weight):\n",
        "        if 0 <= u < self.size and 0 <= v < self.size:\n",
        "            self.adj_matrix[u][v] = weight\n",
        "            #self.adj_matrix[v][u] = weight   For undirected graph\n",
        "\n",
        "    def add_vertex_data(self, vertex, data):\n",
        "        if 0 <= vertex < self.size:\n",
        "            self.vertex_data[vertex] = data\n",
        "\n",
        "    def dijkstra(self, start_vertex_data):\n",
        "        start_vertex = self.vertex_data.index(start_vertex_data)\n",
        "        distances = [float('inf')] * self.size\n",
        "        distances[start_vertex] = 0\n",
        "        visited = [False] * self.size\n",
        "\n",
        "        for _ in range(self.size):\n",
        "            min_distance = float('inf')\n",
        "            u = None\n",
        "            for i in range(self.size):\n",
        "                if not visited[i] and distances[i] < min_distance:\n",
        "                    min_distance = distances[i]\n",
        "                    u = i\n",
        "\n",
        "            if u is None:\n",
        "                break\n",
        "\n",
        "            visited[u] = True\n",
        "\n",
        "            for v in range(self.size):\n",
        "                if self.adj_matrix[u][v] != 0 and not visited[v]:\n",
        "                    alt = distances[u] + self.adj_matrix[u][v]\n",
        "                    if alt < distances[v]:\n",
        "                        distances[v] = alt\n",
        "\n",
        "        return distances\n",
        "\n",
        "g = Graph(7)\n",
        "\n",
        "g.add_vertex_data(0, 'A')\n",
        "g.add_vertex_data(1, 'B')\n",
        "g.add_vertex_data(2, 'C')\n",
        "g.add_vertex_data(3, 'D')\n",
        "g.add_vertex_data(4, 'E')\n",
        "g.add_vertex_data(5, 'F')\n",
        "g.add_vertex_data(6, 'G')\n",
        "\n",
        "g.add_edge(3, 0, 4)  # D -> A, weight 5\n",
        "g.add_edge(3, 4, 2)  # D -> E, weight 2\n",
        "g.add_edge(0, 2, 3)  # A -> C, weight 3\n",
        "g.add_edge(0, 4, 4)  # A -> E, weight 4\n",
        "g.add_edge(4, 2, 4)  # E -> C, weight 4\n",
        "g.add_edge(4, 6, 5)  # E -> G, weight 5\n",
        "g.add_edge(2, 5, 5)  # C -> F, weight 5\n",
        "g.add_edge(1, 2, 2)  # B -> C, weight 2\n",
        "g.add_edge(1, 5, 2)  # B -> F, weight 2\n",
        "g.add_edge(6, 5, 5)  # G -> F, weight 5\n",
        "\n",
        "# Dijkstra's algorithm from D to all vertices\n",
        "print(\"Dijkstra's Algoritmo comenzando desde el nodo A:\\n\")\n",
        "distances = g.dijkstra('A')\n",
        "for i, d in enumerate(distances):\n",
        "    print(f\"Distancia más corta desde A a {g.vertex_data[i]}: {d}\")"
      ]
    }
  ]
}