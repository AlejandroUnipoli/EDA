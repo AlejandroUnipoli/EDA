{
  "nbformat": 4,
  "nbformat_minor": 0,
  "metadata": {
    "colab": {
      "provenance": [],
      "authorship_tag": "ABX9TyOKGXSdLrKCetaxb21W/fFU",
      "include_colab_link": true
    },
    "kernelspec": {
      "name": "python3",
      "display_name": "Python 3"
    },
    "language_info": {
      "name": "python"
    }
  },
  "cells": [
    {
      "cell_type": "markdown",
      "metadata": {
        "id": "view-in-github",
        "colab_type": "text"
      },
      "source": [
        "<a href=\"https://colab.research.google.com/github/AlejandroUnipoli/EDA/blob/main/Act_t_hash.ipynb\" target=\"_parent\"><img src=\"https://colab.research.google.com/assets/colab-badge.svg\" alt=\"Open In Colab\"/></a>"
      ]
    },
    {
      "cell_type": "code",
      "execution_count": null,
      "metadata": {
        "colab": {
          "base_uri": "https://localhost:8080/"
        },
        "id": "yGBVjPbeztqB",
        "outputId": "09b00065-2064-4fac-9afe-dc5be580becf"
      },
      "outputs": [
        {
          "output_type": "stream",
          "name": "stdout",
          "text": [
            "\n",
            "Tabla Hash:\n",
            " ► Índice 0: []\n",
            " ► Índice 1: []\n",
            " ► Índice 2: []\n",
            " ► Índice 3: []\n",
            " ► Índice 4: ['fanj']\n",
            " ► Índice 5: ['lkddu', 'tjkzu']\n",
            " ► Índice 6: ['yqptwf']\n",
            " ► Índice 7: ['uhpwkej', 'ixsbcnh']\n",
            " ► Índice 8: ['rjndjzcl', 'qapspade', 'vvxveqfv']\n",
            " ► Índice 9: ['tvlwdjrlj']\n",
            "\n",
            "------------------------------------------------\n",
            " ▶ Metricas:\n",
            "  ● Factor de carga: 40.00%\n",
            "  ● Complejidad temporal: 0.0001 s\n",
            "  ● Uso de memoria: 184 bytes\n",
            "------------------------------------------------\n"
          ]
        }
      ],
      "source": [
        "\n",
        "import random\n",
        "import time\n",
        "import sys\n",
        "\n",
        "class HashTable:\n",
        "    def __init__(self, size):\n",
        "        self.size = size\n",
        "        self.table = [[] for _ in range(size)]  # Encadenamiento separado\n",
        "        self.collisions = 0\n",
        "\n",
        "    def _hash(self, key):\n",
        "        return len(key) % self.size  # Usamos la longitud como clave de hash\n",
        "\n",
        "    def insert(self, key):\n",
        "        index = self._hash(key)\n",
        "        self.table[index].append(key)\n",
        "        if len(self.table[index]) > 1:\n",
        "          self.collisions += 1\n",
        "\n",
        "\n",
        "    def print_table(self):\n",
        "        print(\"\\nTabla Hash:\")\n",
        "        for i, bucket in enumerate(self.table):\n",
        "            print(f\" ► Índice {i}: {bucket}\")\n",
        "\n",
        "    def get_metrics(self):\n",
        "      load_factor = (self.collisions / self.size) * 100 if self.size else 0\n",
        "      memory_usage = sys.getsizeof(self.table) # Estimacion de memoria\n",
        "      return load_factor, memory_usage\n",
        "\n",
        "def generar_palabra(longitud):\n",
        "    letras = \"abcdefghijklmnopqrstuvwxyz\"\n",
        "    palabra = \"\".join(random.choice(letras) for _ in range(longitud))\n",
        "    return palabra\n",
        "\n",
        "if __name__ == \"__main__\":\n",
        "    size = 10 #Tamaño de la tabla hash\n",
        "    num_palabras = size #Numero de palabras a generar\n",
        "\n",
        "    hash_table = HashTable(size)\n",
        "    start_time = time.time()\n",
        "\n",
        "    for _ in range(num_palabras):\n",
        "      longitud = random.randint(1, size-1)\n",
        "      palabra = generar_palabra(longitud)\n",
        "      hash_table.insert(palabra)\n",
        "\n",
        "    end_time = time.time()\n",
        "    time_complexity = end_time - start_time\n",
        "\n",
        "    load_factor, memory_usage = hash_table.get_metrics()\n",
        "\n",
        "    hash_table.print_table()\n",
        "\n",
        "    print(\"\\n------------------------------------------------\")\n",
        "    print(\" ▶ Metricas:\")\n",
        "    print(f\"  ● Factor de carga: {load_factor:.2f}%\")\n",
        "    print(f\"  ● Complejidad temporal: {time_complexity:.4f} s\")\n",
        "    print(f\"  ● Uso de memoria: {memory_usage} bytes\")\n",
        "    print(\"------------------------------------------------\")\n",
        "\n"
      ]
    }
  ]
}