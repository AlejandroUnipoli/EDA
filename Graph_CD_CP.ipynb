{
  "nbformat": 4,
  "nbformat_minor": 0,
  "metadata": {
    "colab": {
      "provenance": [],
      "authorship_tag": "ABX9TyOU3FoI92VFTorkHLg1YegI",
      "include_colab_link": true
    },
    "kernelspec": {
      "name": "python3",
      "display_name": "Python 3"
    },
    "language_info": {
      "name": "python"
    }
  },
  "cells": [
    {
      "cell_type": "markdown",
      "metadata": {
        "id": "view-in-github",
        "colab_type": "text"
      },
      "source": [
        "<a href=\"https://colab.research.google.com/github/AlejandroUnipoli/EDA/blob/Graphs/Graph_CD_CP.ipynb\" target=\"_parent\"><img src=\"https://colab.research.google.com/assets/colab-badge.svg\" alt=\"Open In Colab\"/></a>"
      ]
    },
    {
      "cell_type": "code",
      "execution_count": 1,
      "metadata": {
        "colab": {
          "base_uri": "https://localhost:8080/"
        },
        "id": "PzYlKw1hq1T8",
        "outputId": "3111068d-e5df-47e2-bf2a-5fd8ff9d4f66"
      },
      "outputs": [
        {
          "output_type": "stream",
          "name": "stdout",
          "text": [
            "Requirement already satisfied: graphviz in /usr/local/lib/python3.10/dist-packages (0.20.3)\n",
            "Matriz de Adyacencia:\n",
            "[[0, 1, 0], [0, 0, 1], [1, 0, 0]]\n",
            "Lista de Adyacencia:\n",
            "{'A': {'B'}, 'B': {'C'}, 'C': {'A'}}\n",
            "Matriz de Adyacencia después de eliminar un vértice:\n",
            "[[0, 0], [1, 0]]\n",
            "Lista de Adyacencia después de eliminar un vértice:\n",
            "{'A': set(), 'C': {'A'}}\n"
          ]
        }
      ],
      "source": [
        "\n",
        "import graphviz\n",
        "\n",
        "class WeightedDiGraph:\n",
        "    def __init__(self):\n",
        "        self.graph = {}\n",
        "\n",
        "    def add_vertex(self, vertex):\n",
        "        if vertex not in self.graph:\n",
        "            self.graph[vertex] = {}\n",
        "\n",
        "    def add_edge(self, source, destination, weight):\n",
        "        if source in self.graph and destination in self.graph:\n",
        "            self.graph[source][destination] = weight\n",
        "\n",
        "    def remove_vertex(self, vertex):\n",
        "        if vertex in self.graph:\n",
        "            del self.graph[vertex]\n",
        "            for v in self.graph:\n",
        "                if vertex in self.graph[v]:\n",
        "                    del self.graph[v][vertex]\n",
        "\n",
        "\n",
        "    def print_adjacency_list(self):\n",
        "        for vertex in self.graph:\n",
        "            print(f\"{vertex}: {self.graph[vertex]}\")\n",
        "\n",
        "\n",
        "    def print_adjacency_matrix(self):\n",
        "        vertices = sorted(self.graph.keys())\n",
        "        num_vertices = len(vertices)\n",
        "\n",
        "        matrix = [[0] * num_vertices for _ in range(num_vertices)]\n",
        "        vertex_map = {vertex: index for index, vertex in enumerate(vertices)}\n",
        "\n",
        "        for source in self.graph:\n",
        "            for destination, weight in self.graph[source].items():\n",
        "                matrix[vertex_map[source]][vertex_map[destination]] = weight\n",
        "\n",
        "        print(\"Matriz de adyacencia:\")\n",
        "        for row in matrix:\n",
        "            print(row)\n",
        "\n",
        "\n",
        "    def visualize_graph(self, filename=\"graph.png\"):\n",
        "        dot = graphviz.Digraph(format='png')\n",
        "\n",
        "        for vertex in self.graph:\n",
        "            dot.node(str(vertex))\n",
        "\n",
        "        for source in self.graph:\n",
        "            for destination, weight in self.graph[source].items():\n",
        "                dot.edge(str(source), str(destination), label=str(weight))\n",
        "\n",
        "        dot.render(filename, view=True)\n",
        "\n",
        "\n",
        "\n",
        "# Ejemplo de uso\n",
        "graph = WeightedDiGraph()\n",
        "\n",
        "graph.add_vertex(\"A\")\n",
        "graph.add_vertex(\"B\")\n",
        "graph.add_vertex(\"C\")\n",
        "\n",
        "graph.add_edge(\"A\", \"B\", 2)\n",
        "graph.add_edge(\"B\", \"C\", 3)\n",
        "graph.add_edge(\"A\", \"C\", 5)\n",
        "\n",
        "print(\"Lista de adyacencia:\")\n",
        "graph.print_adjacency_list()\n",
        "\n",
        "print(\"\\nMatriz de adyacencia:\")\n",
        "graph.print_adjacency_matrix()\n",
        "\n",
        "graph.visualize_graph()\n",
        "\n",
        "# Eliminar un vértice\n",
        "graph.remove_vertex(\"B\")\n",
        "\n",
        "print(\"\\nLista de adyacencia después de eliminar 'B':\")\n",
        "graph.print_adjacency_list()\n",
        "print(\"\\nMatriz de adyacencia después de eliminar 'B':\")\n",
        "graph.print_adjacency_matrix()\n",
        "\n",
        "graph.visualize_graph(\"graph_after_remove.png\")\n"
      ]
    }
  ]
}